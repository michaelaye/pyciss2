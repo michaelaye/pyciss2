{
 "cells": [
  {
   "cell_type": "code",
   "execution_count": null,
   "id": "musical-jacksonville",
   "metadata": {},
   "outputs": [],
   "source": [
    "#default_exp index"
   ]
  },
  {
   "cell_type": "markdown",
   "id": "supreme-seller",
   "metadata": {},
   "source": [
    "# Index\n",
    "\n",
    "> Tools to retrieve the PDS index for Cassini ISS image data."
   ]
  },
  {
   "cell_type": "code",
   "execution_count": null,
   "id": "rubber-input",
   "metadata": {},
   "outputs": [],
   "source": [
    "#export\n",
    "from pathlib import Path\n",
    "\n",
    "import numpy as np\n",
    "import pandas as pd\n",
    "\n",
    "from planetarypy.pdstools.indexes import indexdb\n",
    "\n",
    "from pyciss.ringutils import which_epi_janus_resonance, get_all_prime_resonances\n",
    "from pyciss.io import config"
   ]
  },
  {
   "cell_type": "code",
   "execution_count": null,
   "id": "authentic-austin",
   "metadata": {},
   "outputs": [],
   "source": [
    "#export\n",
    "resonances = get_all_prime_resonances()\n",
    "\n",
    "def get_index_dir():\n",
    "    d = Path(config.archive_path) / \"indexes\"\n",
    "    d.mkdir(exist_ok=True)\n",
    "    return d"
   ]
  },
  {
   "cell_type": "code",
   "execution_count": null,
   "id": "medium-david",
   "metadata": {},
   "outputs": [
    {
     "data": {
      "text/plain": [
       "PosixPath('/home/maye/big_drive/planetary_data/pyciss/indexes')"
      ]
     },
     "execution_count": null,
     "metadata": {},
     "output_type": "execute_result"
    }
   ],
   "source": [
    "get_index_dir()"
   ]
  },
  {
   "cell_type": "code",
   "execution_count": null,
   "id": "patient-personal",
   "metadata": {},
   "outputs": [],
   "source": [
    "#export\n",
    "def download_general_index():\n",
    "    indexdb.download(\"cassini.iss.index\")"
   ]
  },
  {
   "cell_type": "code",
   "execution_count": null,
   "id": "loving-offer",
   "metadata": {},
   "outputs": [],
   "source": [
    "#export\n",
    "def download_ring_summary_index():\n",
    "    indexdb.download(\"cassini.iss.ring_summary\")"
   ]
  },
  {
   "cell_type": "code",
   "execution_count": null,
   "id": "moved-citizen",
   "metadata": {},
   "outputs": [],
   "source": [
    "#export\n",
    "def read_cumulative_iss_index():\n",
    "    \"Read in the whole cumulative index and return dataframe.\"\n",
    "    index = indexdb.get(\"cassini.iss.index\")\n",
    "\n",
    "    df = index.df\n",
    "    # replace PDS Nan values (-1e32) with real NaNs\n",
    "    df = df.replace(-1.000000e32, np.nan)\n",
    "    return df.replace(-999.0, np.nan)"
   ]
  },
  {
   "cell_type": "code",
   "execution_count": null,
   "id": "scientific-analyst",
   "metadata": {},
   "outputs": [],
   "source": [
    "#export\n",
    "def ring_summary_index():\n",
    "    index = indexdb.get('cassini.iss.ring_summary')\n",
    "\n",
    "    df = index.df\n",
    "    df = df.replace(-1.00000e32, np.nan)\n",
    "    return df.replace(-999.0, np.nan)"
   ]
  },
  {
   "cell_type": "code",
   "execution_count": null,
   "id": "seasonal-georgia",
   "metadata": {},
   "outputs": [],
   "source": [
    "df = ring_summary_index()"
   ]
  },
  {
   "cell_type": "code",
   "execution_count": null,
   "id": "cleared-wealth",
   "metadata": {},
   "outputs": [
    {
     "data": {
      "text/html": [
       "<div>\n",
       "<style scoped>\n",
       "    .dataframe tbody tr th:only-of-type {\n",
       "        vertical-align: middle;\n",
       "    }\n",
       "\n",
       "    .dataframe tbody tr th {\n",
       "        vertical-align: top;\n",
       "    }\n",
       "\n",
       "    .dataframe thead th {\n",
       "        text-align: right;\n",
       "    }\n",
       "</style>\n",
       "<table border=\"1\" class=\"dataframe\">\n",
       "  <thead>\n",
       "    <tr style=\"text-align: right;\">\n",
       "      <th></th>\n",
       "      <th>VOLUME_ID</th>\n",
       "      <th>FILE_SPECIFICATION_NAME</th>\n",
       "      <th>OPUS_ID</th>\n",
       "      <th>MINIMUM_RIGHT_ASCENSION</th>\n",
       "      <th>MAXIMUM_RIGHT_ASCENSION</th>\n",
       "      <th>MINIMUM_DECLINATION</th>\n",
       "      <th>MAXIMUM_DECLINATION</th>\n",
       "      <th>MINIMUM_RING_RADIUS</th>\n",
       "      <th>MAXIMUM_RING_RADIUS</th>\n",
       "      <th>FINEST_RING_INTERCEPT_RESOLUTION</th>\n",
       "      <th>...</th>\n",
       "      <th>RING_CENTER_DISTANCE</th>\n",
       "      <th>SUB_SOLAR_RING_LONGITUDE</th>\n",
       "      <th>SUB_OBSERVER_RING_LONGITUDE</th>\n",
       "      <th>RING_CENTER_PHASE_ANGLE</th>\n",
       "      <th>RING_CENTER_INCIDENCE_ANGLE</th>\n",
       "      <th>RING_CENTER_NORTH_BASED_INCIDENCE_ANGLE</th>\n",
       "      <th>RING_CENTER_EMISSION_ANGLE</th>\n",
       "      <th>RING_CENTER_NORTH_BASED_EMISSION_ANGLE</th>\n",
       "      <th>SOLAR_RING_OPENING_ANGLE</th>\n",
       "      <th>OBSERVER_RING_OPENING_ANGLE</th>\n",
       "    </tr>\n",
       "  </thead>\n",
       "  <tbody>\n",
       "    <tr>\n",
       "      <th>0</th>\n",
       "      <td>COISS_2001</td>\n",
       "      <td>data/1454725799_1455008789/N1454725799_1.LBL</td>\n",
       "      <td>co-iss-n1454725799</td>\n",
       "      <td>35.528398</td>\n",
       "      <td>35.905555</td>\n",
       "      <td>9.719637</td>\n",
       "      <td>10.091212</td>\n",
       "      <td>205899.335</td>\n",
       "      <td>1098621.586</td>\n",
       "      <td>419.01370</td>\n",
       "      <td>...</td>\n",
       "      <td>7.087500e+07</td>\n",
       "      <td>284.523</td>\n",
       "      <td>215.951</td>\n",
       "      <td>64.070</td>\n",
       "      <td>64.589</td>\n",
       "      <td>115.411</td>\n",
       "      <td>73.676</td>\n",
       "      <td>106.324</td>\n",
       "      <td>-25.411</td>\n",
       "      <td>-16.324</td>\n",
       "    </tr>\n",
       "    <tr>\n",
       "      <th>1</th>\n",
       "      <td>COISS_2001</td>\n",
       "      <td>data/1454725799_1455008789/N1454726579_1.LBL</td>\n",
       "      <td>co-iss-n1454726579</td>\n",
       "      <td>36.662898</td>\n",
       "      <td>37.039038</td>\n",
       "      <td>9.590114</td>\n",
       "      <td>9.960833</td>\n",
       "      <td>721136.155</td>\n",
       "      <td>1745689.307</td>\n",
       "      <td>421.97145</td>\n",
       "      <td>...</td>\n",
       "      <td>7.087085e+07</td>\n",
       "      <td>284.524</td>\n",
       "      <td>215.951</td>\n",
       "      <td>64.070</td>\n",
       "      <td>64.589</td>\n",
       "      <td>115.411</td>\n",
       "      <td>73.676</td>\n",
       "      <td>106.324</td>\n",
       "      <td>-25.411</td>\n",
       "      <td>-16.324</td>\n",
       "    </tr>\n",
       "    <tr>\n",
       "      <th>2</th>\n",
       "      <td>COISS_2001</td>\n",
       "      <td>data/1454725799_1455008789/N1454727359_1.LBL</td>\n",
       "      <td>co-iss-n1454727359</td>\n",
       "      <td>36.928066</td>\n",
       "      <td>37.304334</td>\n",
       "      <td>9.879593</td>\n",
       "      <td>10.250110</td>\n",
       "      <td>1042341.438</td>\n",
       "      <td>2186830.920</td>\n",
       "      <td>414.79041</td>\n",
       "      <td>...</td>\n",
       "      <td>7.086670e+07</td>\n",
       "      <td>284.524</td>\n",
       "      <td>215.951</td>\n",
       "      <td>64.071</td>\n",
       "      <td>64.589</td>\n",
       "      <td>115.411</td>\n",
       "      <td>73.676</td>\n",
       "      <td>106.324</td>\n",
       "      <td>-25.411</td>\n",
       "      <td>-16.324</td>\n",
       "    </tr>\n",
       "    <tr>\n",
       "      <th>3</th>\n",
       "      <td>COISS_2001</td>\n",
       "      <td>data/1454725799_1455008789/N1454728139_1.LBL</td>\n",
       "      <td>co-iss-n1454728139</td>\n",
       "      <td>28.100420</td>\n",
       "      <td>28.479618</td>\n",
       "      <td>6.224709</td>\n",
       "      <td>6.601574</td>\n",
       "      <td>NaN</td>\n",
       "      <td>NaN</td>\n",
       "      <td>NaN</td>\n",
       "      <td>...</td>\n",
       "      <td>7.086256e+07</td>\n",
       "      <td>284.524</td>\n",
       "      <td>215.951</td>\n",
       "      <td>64.071</td>\n",
       "      <td>64.589</td>\n",
       "      <td>115.411</td>\n",
       "      <td>73.676</td>\n",
       "      <td>106.324</td>\n",
       "      <td>-25.411</td>\n",
       "      <td>-16.324</td>\n",
       "    </tr>\n",
       "    <tr>\n",
       "      <th>4</th>\n",
       "      <td>COISS_2001</td>\n",
       "      <td>data/1454725799_1455008789/N1454728919_1.LBL</td>\n",
       "      <td>co-iss-n1454728919</td>\n",
       "      <td>37.981418</td>\n",
       "      <td>38.357791</td>\n",
       "      <td>10.611947</td>\n",
       "      <td>10.981697</td>\n",
       "      <td>3865717.589</td>\n",
       "      <td>3905151.343</td>\n",
       "      <td>405.91234</td>\n",
       "      <td>...</td>\n",
       "      <td>7.085841e+07</td>\n",
       "      <td>284.525</td>\n",
       "      <td>215.951</td>\n",
       "      <td>64.071</td>\n",
       "      <td>64.589</td>\n",
       "      <td>115.411</td>\n",
       "      <td>73.676</td>\n",
       "      <td>106.324</td>\n",
       "      <td>-25.411</td>\n",
       "      <td>-16.324</td>\n",
       "    </tr>\n",
       "  </tbody>\n",
       "</table>\n",
       "<p>5 rows × 59 columns</p>\n",
       "</div>"
      ],
      "text/plain": [
       "    VOLUME_ID                       FILE_SPECIFICATION_NAME  \\\n",
       "0  COISS_2001  data/1454725799_1455008789/N1454725799_1.LBL   \n",
       "1  COISS_2001  data/1454725799_1455008789/N1454726579_1.LBL   \n",
       "2  COISS_2001  data/1454725799_1455008789/N1454727359_1.LBL   \n",
       "3  COISS_2001  data/1454725799_1455008789/N1454728139_1.LBL   \n",
       "4  COISS_2001  data/1454725799_1455008789/N1454728919_1.LBL   \n",
       "\n",
       "              OPUS_ID  MINIMUM_RIGHT_ASCENSION  MAXIMUM_RIGHT_ASCENSION  \\\n",
       "0  co-iss-n1454725799                35.528398                35.905555   \n",
       "1  co-iss-n1454726579                36.662898                37.039038   \n",
       "2  co-iss-n1454727359                36.928066                37.304334   \n",
       "3  co-iss-n1454728139                28.100420                28.479618   \n",
       "4  co-iss-n1454728919                37.981418                38.357791   \n",
       "\n",
       "   MINIMUM_DECLINATION  MAXIMUM_DECLINATION  MINIMUM_RING_RADIUS  \\\n",
       "0             9.719637            10.091212           205899.335   \n",
       "1             9.590114             9.960833           721136.155   \n",
       "2             9.879593            10.250110          1042341.438   \n",
       "3             6.224709             6.601574                  NaN   \n",
       "4            10.611947            10.981697          3865717.589   \n",
       "\n",
       "   MAXIMUM_RING_RADIUS  FINEST_RING_INTERCEPT_RESOLUTION  ...  \\\n",
       "0          1098621.586                         419.01370  ...   \n",
       "1          1745689.307                         421.97145  ...   \n",
       "2          2186830.920                         414.79041  ...   \n",
       "3                  NaN                               NaN  ...   \n",
       "4          3905151.343                         405.91234  ...   \n",
       "\n",
       "   RING_CENTER_DISTANCE  SUB_SOLAR_RING_LONGITUDE  \\\n",
       "0          7.087500e+07                   284.523   \n",
       "1          7.087085e+07                   284.524   \n",
       "2          7.086670e+07                   284.524   \n",
       "3          7.086256e+07                   284.524   \n",
       "4          7.085841e+07                   284.525   \n",
       "\n",
       "   SUB_OBSERVER_RING_LONGITUDE  RING_CENTER_PHASE_ANGLE  \\\n",
       "0                      215.951                   64.070   \n",
       "1                      215.951                   64.070   \n",
       "2                      215.951                   64.071   \n",
       "3                      215.951                   64.071   \n",
       "4                      215.951                   64.071   \n",
       "\n",
       "   RING_CENTER_INCIDENCE_ANGLE  RING_CENTER_NORTH_BASED_INCIDENCE_ANGLE  \\\n",
       "0                       64.589                                  115.411   \n",
       "1                       64.589                                  115.411   \n",
       "2                       64.589                                  115.411   \n",
       "3                       64.589                                  115.411   \n",
       "4                       64.589                                  115.411   \n",
       "\n",
       "   RING_CENTER_EMISSION_ANGLE  RING_CENTER_NORTH_BASED_EMISSION_ANGLE  \\\n",
       "0                      73.676                                 106.324   \n",
       "1                      73.676                                 106.324   \n",
       "2                      73.676                                 106.324   \n",
       "3                      73.676                                 106.324   \n",
       "4                      73.676                                 106.324   \n",
       "\n",
       "   SOLAR_RING_OPENING_ANGLE  OBSERVER_RING_OPENING_ANGLE  \n",
       "0                   -25.411                      -16.324  \n",
       "1                   -25.411                      -16.324  \n",
       "2                   -25.411                      -16.324  \n",
       "3                   -25.411                      -16.324  \n",
       "4                   -25.411                      -16.324  \n",
       "\n",
       "[5 rows x 59 columns]"
      ]
     },
     "execution_count": null,
     "metadata": {},
     "output_type": "execute_result"
    }
   ],
   "source": [
    "df.head()"
   ]
  },
  {
   "cell_type": "code",
   "execution_count": null,
   "id": "ignored-museum",
   "metadata": {},
   "outputs": [],
   "source": [
    "#export\n",
    "def read_ring_images_index():\n",
    "    \"\"\"Filter cumulative index for ring images.\n",
    "\n",
    "    This is done by matching the column TARGET_DESC to contain the string 'ring'\n",
    "\n",
    "    Returns\n",
    "    -------\n",
    "    pandas.DataFrame\n",
    "        data table containing only meta-data for ring images\n",
    "    \"\"\"\n",
    "    meta = read_cumulative_iss_index()\n",
    "    ringfilter = meta.TARGET_DESC.str.contains(\"ring\", case=False)\n",
    "    return meta[ringfilter]"
   ]
  },
  {
   "cell_type": "code",
   "execution_count": null,
   "id": "republican-ending",
   "metadata": {},
   "outputs": [
    {
     "name": "stdout",
     "output_type": "stream",
     "text": [
      "<class 'pandas.core.frame.DataFrame'>\n",
      "Int64Index: 117692 entries, 2321 to 407222\n",
      "Columns: 140 entries, FILE_NAME to STANDARD_DATA_PRODUCT_ID\n",
      "dtypes: datetime64[ns](7), float64(70), int64(20), object(43)\n",
      "memory usage: 126.6+ MB\n"
     ]
    }
   ],
   "source": [
    "read_ring_images_index().info()"
   ]
  },
  {
   "cell_type": "code",
   "execution_count": null,
   "id": "continent-cisco",
   "metadata": {},
   "outputs": [],
   "source": [
    "#export\n",
    "def get_clearnacs_ring_images():\n",
    "    df = read_ring_images_index()\n",
    "    try:\n",
    "        df = df.set_index(\"isotime\")\n",
    "    except KeyError:\n",
    "        print(\"'isotime' column does not exist. Leaving index as it is.\")\n",
    "    ringimages = df.query(\"RINGS_FLAG=='YES'\")\n",
    "    ringimages = ringimages[ringimages.MAXIMUM_RING_RADIUS.notnull()]\n",
    "    ringimages = ringimages[ringimages.MINIMUM_RING_RADIUS.notnull()]\n",
    "    ringimages = ringimages.query(\n",
    "        \"MAXIMUM_RING_RADIUS < 1e90 and MINIMUM_RING_RADIUS > 0\"\n",
    "    )\n",
    "    nac = ringimages[ringimages.INSTRUMENT_ID == \"ISSNA\"]\n",
    "    clearnacs = nac.query('FILTER_NAME_1 == \"CL1\" and FILTER_NAME_2 == \"CL2\"')\n",
    "    return clearnacs"
   ]
  },
  {
   "cell_type": "code",
   "execution_count": null,
   "id": "copyrighted-joyce",
   "metadata": {},
   "outputs": [
    {
     "name": "stdout",
     "output_type": "stream",
     "text": [
      "'isotime' column does not exist. Leaving index as it is.\n",
      "<class 'pandas.core.frame.DataFrame'>\n",
      "Int64Index: 73271 entries, 2321 to 407222\n",
      "Columns: 140 entries, FILE_NAME to STANDARD_DATA_PRODUCT_ID\n",
      "dtypes: datetime64[ns](7), float64(70), int64(20), object(43)\n",
      "memory usage: 78.8+ MB\n"
     ]
    }
   ],
   "source": [
    "clearnacs = get_clearnacs_ring_images()\n",
    "clearnacs.info()"
   ]
  },
  {
   "cell_type": "code",
   "execution_count": null,
   "id": "integrated-lemon",
   "metadata": {},
   "outputs": [],
   "source": [
    "#export\n",
    "def filter_for_ringspan(clearnacs, spanlimit):\n",
    "    \"filter for covered ringspan, giver in km.\"\n",
    "    delta = clearnacs.MAXIMUM_RING_RADIUS - clearnacs.MINIMUM_RING_RADIUS\n",
    "    f = delta < spanlimit\n",
    "    ringspan = clearnacs[f].copy()\n",
    "    return ringspan"
   ]
  },
  {
   "cell_type": "code",
   "execution_count": null,
   "id": "elegant-bridge",
   "metadata": {},
   "outputs": [
    {
     "name": "stdout",
     "output_type": "stream",
     "text": [
      "<class 'pandas.core.frame.DataFrame'>\n",
      "Int64Index: 134 entries, 13326 to 398037\n",
      "Columns: 140 entries, FILE_NAME to STANDARD_DATA_PRODUCT_ID\n",
      "dtypes: datetime64[ns](7), float64(70), int64(20), object(43)\n",
      "memory usage: 147.6+ KB\n"
     ]
    }
   ],
   "source": [
    "filter_for_ringspan(clearnacs, 500).info()"
   ]
  },
  {
   "cell_type": "code",
   "execution_count": null,
   "id": "piano-hebrew",
   "metadata": {},
   "outputs": [],
   "source": [
    "#export\n",
    "def get_resonances_inside_radius(row):\n",
    "    minrad = row[\"MINIMUM_RING_RADIUS\"]\n",
    "    maxrad = row[\"MAXIMUM_RING_RADIUS\"]\n",
    "    lower_filter = resonances[\"radius\"] > (minrad)\n",
    "    higher_filter = resonances[\"radius\"] < (maxrad)\n",
    "    insides = resonances[lower_filter & higher_filter]\n",
    "    return insides\n",
    "\n",
    "\n",
    "def check_for_resonance(row, as_bool=True):\n",
    "    insides = get_resonances_inside_radius(row)\n",
    "    return bool(len(insides)) if as_bool else len(insides)\n",
    "\n",
    "\n",
    "def check_for_janus_resonance(row, as_bool=True):\n",
    "    insides = get_resonances_inside_radius(row)\n",
    "    # row.name is the index of the row, which is a time!\n",
    "    janus = which_epi_janus_resonance(\"janus\", row.name)\n",
    "    moonfilter = insides.moon == janus\n",
    "    return bool(len(insides[moonfilter]))\n",
    "\n",
    "\n",
    "def get_janus_phase(time):\n",
    "    return which_epi_janus_resonance(\"janus\", time)"
   ]
  },
  {
   "cell_type": "code",
   "execution_count": null,
   "id": "structural-blond",
   "metadata": {},
   "outputs": [
    {
     "name": "stdout",
     "output_type": "stream",
     "text": [
      "Converted 00_io.ipynb.\n",
      "Converted 01_opusapi.ipynb.\n",
      "Converted 02_pipeline.ipynb.\n",
      "Converted 03_ringutils.ipynb.\n",
      "Converted 04_plotting.ipynb.\n",
      "Converted 05_index.ipynb.\n",
      "Converted 06_ringcube.ipynb.\n",
      "Converted index.ipynb.\n",
      "Converted to_be_implemented.ipynb.\n"
     ]
    }
   ],
   "source": [
    "from nbdev.export import notebook2script; notebook2script()"
   ]
  },
  {
   "cell_type": "code",
   "execution_count": null,
   "id": "criminal-talent",
   "metadata": {},
   "outputs": [],
   "source": []
  }
 ],
 "metadata": {
  "kernelspec": {
   "display_name": "Python 3",
   "language": "python",
   "name": "python3"
  }
 },
 "nbformat": 4,
 "nbformat_minor": 5
}

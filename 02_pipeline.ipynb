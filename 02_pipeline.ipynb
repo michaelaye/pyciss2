{
 "cells": [
  {
   "cell_type": "code",
   "execution_count": null,
   "metadata": {},
   "outputs": [],
   "source": [
    "#default_exp pipeline"
   ]
  },
  {
   "cell_type": "markdown",
   "metadata": {},
   "source": [
    "# pipeline\n",
    "\n",
    "This module implements the recalibration of the raw files from PDS\n",
    "\n",
    "> Note: The calibration starts from the LBL files, not the IMG !!!"
   ]
  },
  {
   "cell_type": "code",
   "execution_count": null,
   "metadata": {},
   "outputs": [],
   "source": [
    "#export\n",
    "import logging\n",
    "import os\n",
    "from pathlib import Path\n",
    "\n",
    "from pyciss2 import io\n",
    "import subprocess\n",
    "\n",
    "try:\n",
    "    from kalasiris import (\n",
    "        ciss2isis,\n",
    "        cisscal,\n",
    "        dstripe,\n",
    "        editlab,\n",
    "        getkey,\n",
    "        isis2std,\n",
    "        ringscam2map,\n",
    "        spiceinit,\n",
    "        fillgap,\n",
    "    )\n",
    "except ImportError:\n",
    "    print(\"Cannot load the ISIS system. pipeline module not functional.\")\n",
    "else:\n",
    "    ISISDATA = Path(os.environ[\"ISISDATA\"])\n",
    "    ISISROOT = Path(os.environ[\"ISISROOT\"])\n",
    "# from kalasiris.pysis import ProcessError\n",
    "\n",
    "logger = logging.getLogger(\"pyciss.pipeline\")"
   ]
  },
  {
   "cell_type": "code",
   "execution_count": null,
   "metadata": {},
   "outputs": [],
   "source": [
    "from kalasiris.pysis import ProcessError"
   ]
  },
  {
   "cell_type": "code",
   "execution_count": null,
   "metadata": {},
   "outputs": [],
   "source": [
    "#hide\n",
    "logger = logging.getLogger()"
   ]
  },
  {
   "cell_type": "code",
   "execution_count": null,
   "metadata": {},
   "outputs": [],
   "source": [
    "def file_variations(filename, extensions):\n",
    "    \"\"\"Create a variation of file names.\n",
    "    Generate a list of variations on a filename by replacing the extension with\n",
    "    a the provided list.\n",
    "    :param filename: The original file name to use as a base.\n",
    "    :param extensions: A list of file extensions to generate new filenames.\n",
    "    \"\"\"\n",
    "    (label, ext) = os.path.splitext(filename)\n",
    "    return [label + extention for extention in extensions]\n",
    "\n",
    "\n",
    "class Calibrator(object):\n",
    "    \"\"\"Calibrate raw Cassini ISS images using ISIS.\n",
    "\n",
    "    ISIS is using an official released version the calibration routine `cisscal`\n",
    "    that is being developed under IDL, but has been converted to C++ for ISIS.\n",
    "    I am using the pipeline as described here:\n",
    "    https://isis.astrogeology.usgs.gov/IsisWorkshop/index.php/Working_with_Cassini_ISS_Data\n",
    "    It is customary to indicate the pipeline of ISIS apps that a file went through\n",
    "    with a chain of extensions, e.g. '.cal.dst.map.cub', indicating calibration,\n",
    "    destriping, and map projection.\n",
    "\n",
    "    Parameters\n",
    "    ----------\n",
    "    img_name : io.PathManager, pathlib.Path, str\n",
    "        Absolute path to image or io.PathManager object with raw_label attribute.\n",
    "        If img_name has no attribute `raw_label`, I try to initialize a PathManager\n",
    "        with `img_name` to see if I have received an image_id string here.\n",
    "        Last thing I try is just a path.\n",
    "    is_ring_data : bool\n",
    "        Switch to tell the Calibrator if its dealing with ringdata.\n",
    "        If True, it will check the label for the correct target (required for correct\n",
    "        spiceinit and map projection) and will control spice\n",
    "    do_map_project : bool\n",
    "        Switch to control if map projection into ringplane shall occur\n",
    "    final_resolution : int\n",
    "        The map projection radial resolution value to achieve, in units meter per pixel.\n",
    "        If not given, an automatic value is being calculated by the ISIS software.\n",
    "        This often leads to higher res images than originally performed, using cubic spline\n",
    "        interpolation.\n",
    "        They look good, but one must be aware of this for interpretation.\n",
    "        I usually take a median on all original resolutions\n",
    "        of my dataset and set it to that value.\n",
    "\n",
    "    \"\"\"\n",
    "\n",
    "    map_path = ISISROOT / \"appdata/templates/maps/ringcylindrical.map\"\n",
    "\n",
    "    def __init__(\n",
    "        self, img_name, is_ring_data=True, do_map_project=True, final_resolution=500\n",
    "    ):\n",
    "        self.img_name = self.parse_img_name(img_name)\n",
    "        self.is_ring_data = is_ring_data\n",
    "        self.do_map_project = do_map_project\n",
    "        self.final_resolution = final_resolution\n",
    "\n",
    "    def standard_calib(self):\n",
    "        pm = self.pm  # save typing\n",
    "        # import PDS into ISIS\n",
    "        try:\n",
    "            # use temp file here for fillgap to go to\n",
    "            ciss2isis(from_=pm.raw_label, to=\"temp.cub\")\n",
    "        except ProcessError as e:\n",
    "            print(\"At Calibrator.standard_calib()'s ciss2isis:\")\n",
    "            print(\"ERR:\", e.stderr)\n",
    "            print(f\"Parameters:\\n{pm.raw_label}\\n{pm.raw_cub}\")\n",
    "            raise e\n",
    "        else:\n",
    "            logger.info(\"Import to ISIS done.\")\n",
    "\n",
    "        # fill Hrs pixels from bad importer\n",
    "        fillgap(from_=\"temp.cub\", to=pm.raw_cub, interp=\"akima\")\n",
    "        # check if label fits with data\n",
    "        self.check_label()\n",
    "\n",
    "        # initialize spice kernels into label\n",
    "        self.spiceinit()\n",
    "\n",
    "        # calibration, use I/F as units\n",
    "        cisscal(from_=pm.raw_cub, to=pm.cal_cub, units=\"I/F\")\n",
    "        logger.info(\"cisscal done.\")\n",
    "\n",
    "        # destriping\n",
    "        dstripe(from_=pm.cal_cub, to=pm.dst_cub, mode=\"horizontal\")\n",
    "        logger.info(\"Destriping done.\")\n",
    "\n",
    "        if self.do_map_project:\n",
    "            # destriped\n",
    "            self.map_project(pm.dst_cub, pm.cubepath)\n",
    "            self.create_preview(pm.cubepath)\n",
    "            # undestriped\n",
    "            self.map_project(pm.cal_cub, pm.undestriped)\n",
    "            self.create_preview(pm.undestriped)\n",
    "        else:\n",
    "            logger.warning(\n",
    "                \"Map projection was skipped.\\n\" \"Set map_project to True if wanted.\"\n",
    "            )\n",
    "\n",
    "    def map_project(self, start, end):\n",
    "        try:\n",
    "            ringscam2map(\n",
    "                from_=start,\n",
    "                to=end,\n",
    "                defaultrange=\"Camera\",\n",
    "                map=self.map_path,\n",
    "                pixres=\"mpp\",\n",
    "                resolution=self.final_resolution,\n",
    "            )\n",
    "        except subprocess.CalledProcessError as e:\n",
    "            print(\"STDOUT:\", e.stdout)\n",
    "            print(\"STDERR:\", e.stderr)\n",
    "\n",
    "    def create_preview(self, end):\n",
    "        # create tif quickview\n",
    "        tifname = end.with_suffix(\".tif\")\n",
    "        isis2std(from_=end, to=tifname, format=\"tiff\")\n",
    "        logger.info(\"Created tif product: %s\", tifname)\n",
    "\n",
    "    def spiceinit(self):\n",
    "        \"\"\"Perform either normal spiceinit or one for ringdata.\n",
    "\n",
    "        Note how Python name-spacing can distinguish between the method\n",
    "        and the function with the same name. `spiceinit` from the outer\n",
    "        namespace is the one imported from pysis.\n",
    "        \"\"\"\n",
    "        shape = \"ringplane\" if self.is_ring_data else None\n",
    "        spiceinit(from_=self.pm.raw_cub, cksmithed=\"yes\", spksmithed=\"yes\", shape=shape)\n",
    "        logger.info(\"spiceinit done.\")\n",
    "\n",
    "    def check_label(self):\n",
    "        \"\"\" Check label for target and fix if necessary.\n",
    "\n",
    "        Forcing the target name to Saturn here, because some observations of\n",
    "        the rings have moons as a target, but then the standard map projection\n",
    "        onto the Saturn ring plane fails.\n",
    "\n",
    "        See also\n",
    "        --------\n",
    "        https://isis.astrogeology.usgs.gov/IsisSupport/index.php/topic,3922.0.html\n",
    "        \"\"\"\n",
    "        if not self.is_ring_data:\n",
    "            return\n",
    "        targetname = getkey(\n",
    "            from_=self.pm.raw_cub, grp=\"instrument\", keyword=\"targetname\"\n",
    "        ).stdout.strip()\n",
    "\n",
    "        if targetname.lower() != \"saturn\":\n",
    "            editlab(\n",
    "                from_=self.pm.raw_cub,\n",
    "                options=\"modkey\",\n",
    "                keyword=\"TargetName\",\n",
    "                value=\"Saturn\",\n",
    "                grpname=\"Instrument\",\n",
    "            )\n",
    "\n",
    "    def parse_img_name(self, img_name):\n",
    "        # Check if img_name is maybe a PathManager object with a `raw_label` attribute:\n",
    "        try:\n",
    "            # if img_name is a PathManager:\n",
    "            self.img_name = str(img_name.raw_label)\n",
    "            self.pm = img_name\n",
    "        except AttributeError:\n",
    "            try:\n",
    "                # if img_name is just the ID itself:\n",
    "                self.pm = io.PathManager(img_name)\n",
    "                self.img_name = str(self.pm.raw_label)\n",
    "            except:\n",
    "                # if it's actually the path:\n",
    "                self.img_name = str(img_name)\n",
    "                # PathManager can deal with absolute paths\n",
    "                self.pm = io.PathManager(img_name)\n",
    "\n",
    "    def remapping(self, output=None, resolution=500):\n",
    "        input_ = self.pm.dst_cub if self.pm.dst_cub.exists() else self.pm.cal_cub\n",
    "        if output is None:\n",
    "            output = self.pm.cubepath\n",
    "        elif not Path(output).is_absolute():\n",
    "            output = input_.with_name(output)\n",
    "        logger.info(\"Mapping %s to %s to resolution %i\", input_, output, resolution)\n",
    "        ringscam2map(\n",
    "            from_=input_,\n",
    "            to=output,\n",
    "            map=self.map_path,\n",
    "            pixres=\"mpp\",\n",
    "            defaultrange=\"Camera\",\n",
    "            resolution=resolution,\n",
    "        )\n",
    "        tifname = output.with_suffix(\".tif\")\n",
    "        isis2std(from_=output, to=tifname, format=\"tiff\")"
   ]
  },
  {
   "cell_type": "code",
   "execution_count": null,
   "metadata": {},
   "outputs": [],
   "source": [
    "img_id = 'N1875229393'\n",
    "pm = io.PathManager(img_id)"
   ]
  },
  {
   "cell_type": "code",
   "execution_count": null,
   "metadata": {},
   "outputs": [
    {
     "data": {
      "text/plain": [
       "cal_cub: /home/maye/big_drive/planetary_data/pyciss/N1875229393/N1875229393_1.cal.cub\n",
       "calib_img: /home/maye/big_drive/planetary_data/pyciss/N1875229393/N1875229393_1_CALIB.IMG\n",
       "calib_label: /home/maye/big_drive/planetary_data/pyciss/N1875229393/N1875229393_1_CALIB.LBL\n",
       "cubepath: /home/maye/big_drive/planetary_data/pyciss/N1875229393/N1875229393_1.cal.dst.map.cub\n",
       "dst_cub: /home/maye/big_drive/planetary_data/pyciss/N1875229393/N1875229393_1.cal.dst.cub\n",
       "raw_cub: /home/maye/big_drive/planetary_data/pyciss/N1875229393/N1875229393_1.cub\n",
       "raw_image: /home/maye/big_drive/planetary_data/pyciss/N1875229393/N1875229393_1.IMG\n",
       "raw_label: /home/maye/big_drive/planetary_data/pyciss/N1875229393/N1875229393_1.LBL\n",
       "tif: /home/maye/big_drive/planetary_data/pyciss/N1875229393/N1875229393_1.cal.dst.map.tif\n",
       "undestriped: /home/maye/big_drive/planetary_data/pyciss/N1875229393/N1875229393_1.cal.map.cub"
      ]
     },
     "execution_count": null,
     "metadata": {},
     "output_type": "execute_result"
    }
   ],
   "source": [
    "pm"
   ]
  },
  {
   "cell_type": "code",
   "execution_count": null,
   "metadata": {},
   "outputs": [],
   "source": [
    "calib = Calibrator(pm)"
   ]
  },
  {
   "cell_type": "code",
   "execution_count": null,
   "metadata": {},
   "outputs": [],
   "source": [
    "calib.standard_calib()"
   ]
  },
  {
   "cell_type": "code",
   "execution_count": null,
   "metadata": {},
   "outputs": [
    {
     "data": {
      "text/plain": [
       "cal_cub: /home/maye/big_drive/planetary_data/pyciss/N1875229393/N1875229393_1.cal.cub\n",
       "calib_img: /home/maye/big_drive/planetary_data/pyciss/N1875229393/N1875229393_1_CALIB.IMG\n",
       "calib_label: /home/maye/big_drive/planetary_data/pyciss/N1875229393/N1875229393_1_CALIB.LBL\n",
       "cubepath: /home/maye/big_drive/planetary_data/pyciss/N1875229393/N1875229393_1.cal.dst.map.cub\n",
       "dst_cub: /home/maye/big_drive/planetary_data/pyciss/N1875229393/N1875229393_1.cal.dst.cub\n",
       "raw_cub: /home/maye/big_drive/planetary_data/pyciss/N1875229393/N1875229393_1.cub\n",
       "raw_image: /home/maye/big_drive/planetary_data/pyciss/N1875229393/N1875229393_1.IMG\n",
       "raw_label: /home/maye/big_drive/planetary_data/pyciss/N1875229393/N1875229393_1.LBL\n",
       "tif: /home/maye/big_drive/planetary_data/pyciss/N1875229393/N1875229393_1.cal.dst.map.tif\n",
       "undestriped: /home/maye/big_drive/planetary_data/pyciss/N1875229393/N1875229393_1.cal.map.cub"
      ]
     },
     "execution_count": null,
     "metadata": {},
     "output_type": "execute_result"
    }
   ],
   "source": [
    "pm"
   ]
  },
  {
   "cell_type": "code",
   "execution_count": null,
   "metadata": {},
   "outputs": [
    {
     "name": "stdout",
     "output_type": "stream",
     "text": [
      "Converted 00_io.ipynb.\n",
      "Converted 01_opusapi.ipynb.\n",
      "Converted 02_pipeline.ipynb.\n",
      "Converted 03_ringutils.ipynb.\n",
      "Converted 04_plotting.ipynb.\n",
      "Converted 05_index.ipynb.\n",
      "Converted 06_ringcube.ipynb.\n",
      "Converted index.ipynb.\n",
      "Converted to_be_implemented.ipynb.\n"
     ]
    }
   ],
   "source": [
    "from nbdev.export import notebook2script; notebook2script()"
   ]
  }
 ],
 "metadata": {
  "kernelspec": {
   "display_name": "Python 3",
   "language": "python",
   "name": "python3"
  }
 },
 "nbformat": 4,
 "nbformat_minor": 4
}

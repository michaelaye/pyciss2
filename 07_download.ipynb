{
 "cells": [
  {
   "cell_type": "code",
   "execution_count": null,
   "id": "fantastic-badge",
   "metadata": {},
   "outputs": [],
   "source": [
    "# default_exp download"
   ]
  },
  {
   "cell_type": "markdown",
   "id": "oriented-sound",
   "metadata": {},
   "source": [
    "# Download\n",
    "\n",
    "> Tools for easier downloading\n",
    "\n",
    "So far, these tools are meant to be used with a specific `image_id`."
   ]
  },
  {
   "cell_type": "code",
   "execution_count": null,
   "id": "technological-secret",
   "metadata": {},
   "outputs": [],
   "source": [
    "# export\n",
    "import logging\n",
    "\n",
    "from pyciss import io, opusapi\n",
    "\n",
    "try:\n",
    "    from pyciss import pipeline\n",
    "except ImportError:\n",
    "    print(\"pipeline module not imported.\")\n",
    "\n",
    "logger = logging.getLogger(__name__)"
   ]
  },
  {
   "cell_type": "code",
   "execution_count": null,
   "id": "specialized-punishment",
   "metadata": {},
   "outputs": [],
   "source": [
    "# export\n",
    "def download_img_id(img_id):\n",
    "    \"Download one specific `img_id`, e.g. 'N1875229393'.\"\n",
    "    logger.debug(\"Downloading file id %s\", img_id)\n",
    "    opus = opusapi.OPUS()\n",
    "    opus.query_image_id(img_id)\n",
    "    basepath = opus.download_results()\n",
    "    print(\"Downloaded images into {}\".format(basepath))"
   ]
  },
  {
   "cell_type": "code",
   "execution_count": null,
   "id": "moderate-filename",
   "metadata": {},
   "outputs": [],
   "source": [
    "# export\n",
    "def download_and_calibrate(img_id=None, overwrite=False, recalibrate=False, **kwargs):\n",
    "    \"\"\"Download and calibrate one or more image ids, in parallel.\n",
    "\n",
    "    Parameters\n",
    "    ----------\n",
    "    img_id : str or io.PathManager, optional\n",
    "        If more than one item is in img_id, a parallel process is started\n",
    "    overwrite: bool, optional\n",
    "        If the pm.cubepath exists, this switch controls if it is being overwritten.\n",
    "        Default: False\n",
    "    \"\"\"\n",
    "    if isinstance(img_id, io.PathManager):\n",
    "        pm = img_id\n",
    "    else:\n",
    "        # get a PathManager object that knows where your data is or should be\n",
    "        logger.debug(\"Creating Pathmanager object\")\n",
    "        pm = io.PathManager(img_id)\n",
    "\n",
    "    if not pm.raw_image.exists() or overwrite is True:\n",
    "        logger.debug(\"Downloading file %s\" % pm.img_id)\n",
    "        download_img_id(pm.img_id)\n",
    "        pm = io.PathManager(img_id)  # refresh, to get proper PDS version id.\n",
    "    else:\n",
    "        logger.info(\"Found \")\n",
    "\n",
    "    if not (pm.cubepath.exists() and pm.undestriped.exists()) or overwrite is True:\n",
    "        calib = pipeline.Calibrator(img_id, **kwargs)\n",
    "        calib.standard_calib()\n",
    "    else:\n",
    "        print(\"All files exist. Use overwrite=True to redownload and calibrate.\")"
   ]
  }
 ],
 "metadata": {
  "kernelspec": {
   "display_name": "Python 3 (ipykernel)",
   "language": "python",
   "name": "python3"
  }
 },
 "nbformat": 4,
 "nbformat_minor": 5
}

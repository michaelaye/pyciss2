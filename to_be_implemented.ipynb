{
 "cells": [
  {
   "cell_type": "code",
   "execution_count": null,
   "metadata": {},
   "outputs": [],
   "source": [
    "def is_lossy(label):\n",
    "    \"\"\"Check Label file for the compression type. \"\"\"\n",
    "    val = getkey(from_=label, keyword='INST_CMPRS_TYPE').decode().strip()\n",
    "    if val == 'LOSSY':\n",
    "        return True\n",
    "    else:\n",
    "        return False"
   ]
  }
 ],
 "metadata": {
  "kernelspec": {
   "display_name": "Python 3",
   "language": "python",
   "name": "python3"
  }
 },
 "nbformat": 4,
 "nbformat_minor": 4
}

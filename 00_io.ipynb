{
 "cells": [
  {
   "cell_type": "code",
   "execution_count": null,
   "metadata": {},
   "outputs": [],
   "source": [
    "# default_exp io"
   ]
  },
  {
   "cell_type": "markdown",
   "metadata": {},
   "source": [
    "# Input/Output basics for the pyciss2 package\n",
    "\n",
    "> This module manages where downloaded data is stored via a config\n",
    "file. It also has a PathManager to support finding the paths to files\n",
    "of interest.\n"
   ]
  },
  {
   "cell_type": "code",
   "execution_count": null,
   "metadata": {},
   "outputs": [],
   "source": [
    "#hide\n",
    "from nbdev.showdoc import *"
   ]
  },
  {
   "cell_type": "code",
   "execution_count": null,
   "metadata": {},
   "outputs": [],
   "source": [
    "#export\n",
    "import toml\n",
    "import logging\n",
    "from collections import OrderedDict\n",
    "from pathlib import Path\n",
    "import os\n",
    "import pandas as pd\n",
    "\n",
    "logger = logging.getLogger()"
   ]
  },
  {
   "cell_type": "markdown",
   "metadata": {},
   "source": [
    "## Configfile\n",
    "\n",
    "The config file just contains one path to the folder where all data for `pyciss` will be stored.\n",
    "\n",
    "If it doesn't exist yet, the following code helps you to create it."
   ]
  },
  {
   "cell_type": "code",
   "execution_count": null,
   "metadata": {},
   "outputs": [],
   "source": [
    "#export\n",
    "class Config:\n",
    "    \"\"\"Manage config stuff.\n",
    "\n",
    "    Attributes\n",
    "    -------\n",
    "    dict\n",
    "        Dictionary with the content of the configpath file.\n",
    "    \"\"\"\n",
    "    path = os.getenv(\"PYCISS_CONFIG\", Path.home() / '.pyciss.toml')\n",
    "\n",
    "    def __init__(self, other_config=None):\n",
    "        if other_config is not None:\n",
    "            self.path = Path(other_config)\n",
    "        self.get_config()\n",
    "\n",
    "    def get_config(self):\n",
    "        \"Read the configfile and store config dict.\"\n",
    "        p = self.path\n",
    "        if not p.exists():\n",
    "            self.not_found()\n",
    "        else:\n",
    "            with open(p) as f:\n",
    "                self.d = toml.load(f)\n",
    "                for k, v in self.d.items():\n",
    "                    setattr(self, k, v)\n",
    "\n",
    "    def not_found(self):\n",
    "        print(f\"No configuration file {self.path} found.\\n\")\n",
    "        print(\"Please run `pyciss.io.set_database_path(path)` and provide the path where\\n\"\n",
    "              \"you want to keep your automatically downloaded images.\")\n",
    "        print(f\"`pyciss` will store this path at {self.path}, where you can easily change it later.\")\n",
    "\n",
    "        raise OSError(f\"Config file {self.path} not found.\")\n"
   ]
  },
  {
   "cell_type": "code",
   "execution_count": null,
   "metadata": {},
   "outputs": [],
   "source": [
    "#export\n",
    "config = Config()"
   ]
  },
  {
   "cell_type": "code",
   "execution_count": null,
   "metadata": {},
   "outputs": [
    {
     "data": {
      "text/plain": [
       "'/home/maye/big_drive/planetary_data/pyciss'"
      ]
     },
     "execution_count": null,
     "metadata": {},
     "output_type": "execute_result"
    }
   ],
   "source": [
    "config.archive_path"
   ]
  },
  {
   "cell_type": "code",
   "execution_count": null,
   "metadata": {},
   "outputs": [
    {
     "name": "stdout",
     "output_type": "stream",
     "text": [
      "No configuration file not_existing1.txt found.\n",
      "\n",
      "Please run `pyciss.io.set_database_path(path)` and provide the path where\n",
      "you want to keep your automatically downloaded images.\n",
      "`pyciss` will store this path at not_existing1.txt, where you can easily change it later.\n"
     ]
    }
   ],
   "source": [
    "from fastcore.test import test_fail\n",
    "\n",
    "def will_fail():\n",
    "    c = Config(\"not_existing.txt\")\n",
    "\n",
    "test_fail(will_fail)"
   ]
  },
  {
   "cell_type": "code",
   "execution_count": null,
   "metadata": {},
   "outputs": [],
   "source": [
    "#export\n",
    "def set_database_path(dbfolder, configpath=None):\n",
    "    \"\"\"Use to write the database path into the config.\n",
    "\n",
    "    Parameters\n",
    "    ----------\n",
    "    dbfolder : str or pathlib.Path\n",
    "        Path to where pyciss will store the ISS images it downloads and receives.\n",
    "    \"\"\"\n",
    "    try:  # check if there's already a configfile\n",
    "        config = Config(configpath)\n",
    "    except IOError:  # meaning we need an empy config\n",
    "        config = Config()\n",
    "        config.d = {}\n",
    "    config.d['archive_path'] = dbfolder\n",
    "    with config.path.open('w') as f:\n",
    "        toml.dump(config.d, f)\n",
    "    print(\"Saved database path into {}.\".format(configpath))"
   ]
  },
  {
   "cell_type": "code",
   "execution_count": null,
   "metadata": {},
   "outputs": [],
   "source": [
    "import tempfile"
   ]
  },
  {
   "cell_type": "code",
   "execution_count": null,
   "metadata": {},
   "outputs": [
    {
     "data": {
      "text/plain": [
       "'/tmp/tmpixmwbut3'"
      ]
     },
     "execution_count": null,
     "metadata": {},
     "output_type": "execute_result"
    }
   ],
   "source": [
    "p = tempfile.NamedTemporaryFile()\n",
    "p.name"
   ]
  },
  {
   "cell_type": "code",
   "execution_count": null,
   "metadata": {},
   "outputs": [
    {
     "name": "stdout",
     "output_type": "stream",
     "text": [
      "Saved database path into /tmp/tmpixmwbut3.\n"
     ]
    }
   ],
   "source": [
    "set_database_path(\"some_folder\", p.name)"
   ]
  },
  {
   "cell_type": "code",
   "execution_count": null,
   "metadata": {},
   "outputs": [],
   "source": [
    "assert toml.load(p.name)['archive_path'] == \"some_folder\""
   ]
  },
  {
   "cell_type": "code",
   "execution_count": null,
   "metadata": {},
   "outputs": [],
   "source": [
    "#export\n",
    "def get_db_root():\n",
    "    dbroot = Path(config.archive_path)\n",
    "    dbroot.mkdir(exist_ok=True)\n",
    "    return dbroot"
   ]
  },
  {
   "cell_type": "code",
   "execution_count": null,
   "metadata": {},
   "outputs": [
    {
     "data": {
      "text/plain": [
       "Path('/home/maye/big_drive/planetary_data/pyciss')"
      ]
     },
     "execution_count": null,
     "metadata": {},
     "output_type": "execute_result"
    }
   ],
   "source": [
    "get_db_root()"
   ]
  },
  {
   "cell_type": "code",
   "execution_count": null,
   "metadata": {},
   "outputs": [],
   "source": [
    "#export\n",
    "def db_mapped_cubes():\n",
    "    return get_db_root().glob(\"**/*cal.dst.map.cub\")\n",
    "\n",
    "\n",
    "def db_label_paths():\n",
    "    return get_db_root().glob(\"*.LBL\")"
   ]
  },
  {
   "cell_type": "code",
   "execution_count": null,
   "metadata": {},
   "outputs": [],
   "source": [
    "def print_db_stats():\n",
    "    \"\"\"Print database stats.\n",
    "\n",
    "    Returns\n",
    "    -------\n",
    "    pd.DataFrame\n",
    "        Table with the found data items per type.\n",
    "    \"\"\"\n",
    "    dbroot = get_db_root()\n",
    "    print(f\"Database location: {dbroot}\")\n",
    "    n_ids = len(list(dbroot.glob(\"[N,W]*\")))\n",
    "    print(\"Number of WACs and NACs in database: {}\".format(n_ids))\n",
    "    print(\"These kind of data are in the database: (returning pd.DataFrame)\")\n",
    "    d = {}\n",
    "    for key, val in PathManager.extensions.items():\n",
    "        d[key] = [len(list(dbroot.glob(\"**/*\" + val)))]\n",
    "    return pd.DataFrame(d)"
   ]
  },
  {
   "cell_type": "code",
   "execution_count": null,
   "metadata": {},
   "outputs": [],
   "source": [
    "#export\n",
    "from collections import OrderedDict\n",
    "\n",
    "class PathManager:\n",
    "\n",
    "    \"\"\"Manage paths to data in database.\n",
    "\n",
    "    The `.pyciss.toml` config file determines the path to the database for ISS images.\n",
    "    With this class you can access the different kind of files conveniently.\n",
    "\n",
    "    Using the stored extensions dictionary, the attributes of the object listed here are created\n",
    "    dynamically at object initialization and when the image_id is being set.\n",
    "\n",
    "    NOTE\n",
    "    ----\n",
    "    This class will read the .pyciss.toml to define the dbroot path, but\n",
    "    one can also call it with the savedir argument to override that.\n",
    "\n",
    "    Parameters\n",
    "    ----------\n",
    "    img_id : str or pathlib.Path\n",
    "        The N... or W... image identifier string of CISS images or the absolute\n",
    "        path to an existing image\n",
    "    savedir : str or pathlib.Path\n",
    "        Path to the pyciss image database. By default defined by what's found in\n",
    "        the .pyciss.yaml config, but can be overridden using this parameter.\n",
    "\n",
    "    Attributes\n",
    "    ----------\n",
    "    basepath\n",
    "    img_id\n",
    "    calib_img\n",
    "    calib_label\n",
    "    raw_image\n",
    "    raw_cub\n",
    "    raw_label\n",
    "    cubepath\n",
    "    tif\n",
    "    undestriped\n",
    "    \"\"\"\n",
    "\n",
    "    d = {\n",
    "        'cubepath': '.cal.dst.map.cub',\n",
    "        'cal_cub': '.cal.cub',\n",
    "        'dst_cub': '.cal.dst.cub',\n",
    "        'raw_cub': '.cub',\n",
    "        'raw_label': '.LBL',\n",
    "        'raw_image': '.IMG',\n",
    "        'calib_img': '_CALIB.IMG',\n",
    "        'calib_label': '_CALIB.LBL',\n",
    "        'tif': '.cal.dst.map.tif',\n",
    "        'undestriped': '.cal.map.cub'\n",
    "    }\n",
    "    # ordered, sorted by key:\n",
    "    extensions = OrderedDict(sorted(d.items(), key=lambda t: t[0]))\n",
    "\n",
    "    def __init__(self, img_id, savedir=None):\n",
    "        img_id = img_id.upper()\n",
    "        self.input_img_id = img_id\n",
    "        if Path(img_id).is_absolute():\n",
    "            # the split is to remove the _1.IMG or _2.IMG from the path\n",
    "            # for the image id.\n",
    "            self._id = Path(img_id).name.split('_')[0]\n",
    "        else:\n",
    "            # I'm using only filename until _ for storage\n",
    "            # TODO: Could this create a problem?\n",
    "            self._id = img_id[:11]\n",
    "        if savedir is None:\n",
    "            self.dbroot = get_db_root()\n",
    "        else:\n",
    "            self.dbroot = Path(savedir)\n",
    "\n",
    "        self.set_version()\n",
    "        self.set_attributes()\n",
    "\n",
    "    def set_version(self):\n",
    "        id_ = Path(self.input_img_id).name\n",
    "        if len(id_) > 11:\n",
    "            self.version = id_.split('_')[1].split('.')[0]\n",
    "        else:\n",
    "            # if the given id was without version, check if a raw file is in database:\n",
    "            try:\n",
    "                rawpath = next(self.basepath.glob(self.img_id + \"_?.IMG\")).name\n",
    "            except StopIteration:\n",
    "                self.version = '0'\n",
    "            else:\n",
    "                self.version = rawpath[12]\n",
    "\n",
    "    @property\n",
    "    def basepath(self):\n",
    "        return self.dbroot / self._id\n",
    "\n",
    "    @property\n",
    "    def img_id(self):\n",
    "        return self._id\n",
    "\n",
    "    @img_id.setter\n",
    "    def img_id(self, value):\n",
    "        self._id = value\n",
    "        self.set_attributes()\n",
    "\n",
    "    def set_attributes(self):\n",
    "        for k, v in self.extensions.items():\n",
    "            path = self.basepath / (\"{}_{}{}\".format(self.img_id,\n",
    "                                                     self.version,\n",
    "                                                     v))\n",
    "            setattr(self, k, path)\n",
    "\n",
    "    def __str__(self):\n",
    "        self.set_version()\n",
    "        self.set_attributes()  # in case there were changes\n",
    "        s = ''\n",
    "        for k, v in self.extensions.items():\n",
    "            s += \"{}: \".format(k)\n",
    "            path = getattr(self, k)\n",
    "            if path.exists():\n",
    "                s += \"{}\\n\".format(path)\n",
    "            else:\n",
    "                s += \"not found.\\n\"\n",
    "        return s\n",
    "\n",
    "    def __repr__(self):\n",
    "        return self.__str__()"
   ]
  },
  {
   "cell_type": "code",
   "execution_count": null,
   "metadata": {},
   "outputs": [],
   "source": [
    "#export\n",
    "class DBManager():\n",
    "    def __init__(self):\n",
    "        self.dbroot = get_db_root()\n",
    "\n",
    "    def print_stats(self):\n",
    "        print_db_stats()"
   ]
  },
  {
   "cell_type": "code",
   "execution_count": null,
   "metadata": {},
   "outputs": [],
   "source": [
    "#export\n",
    "def filename_from_obsid(obsid):\n",
    "    tokens = obsid.split('_')\n",
    "    return f\"{tokens[-1]}{tokens[-2]}\"\n"
   ]
  },
  {
   "cell_type": "code",
   "execution_count": null,
   "metadata": {},
   "outputs": [],
   "source": []
  }
 ],
 "metadata": {
  "kernelspec": {
   "display_name": "Python 3",
   "language": "python",
   "name": "python3"
  }
 },
 "nbformat": 4,
 "nbformat_minor": 4
}

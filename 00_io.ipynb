{
 "cells": [
  {
   "cell_type": "code",
   "execution_count": null,
   "metadata": {},
   "outputs": [],
   "source": [
    "# default_exp io"
   ]
  },
  {
   "cell_type": "markdown",
   "metadata": {},
   "source": [
    "# Input/Output\n",
    "\n",
    "> This module manages where downloaded data is stored via a config\n",
    "file. It also provides a PathManager class to retrieve the paths to files in\n",
    "the archive."
   ]
  },
  {
   "cell_type": "code",
   "execution_count": null,
   "metadata": {},
   "outputs": [],
   "source": [
    "# hide\n",
    "from nbdev.showdoc import show_doc"
   ]
  },
  {
   "cell_type": "code",
   "execution_count": null,
   "metadata": {},
   "outputs": [],
   "source": [
    "# export\n",
    "import logging\n",
    "import os\n",
    "from collections import OrderedDict\n",
    "from pathlib import Path\n",
    "import pandas as pd\n",
    "import toml\n",
    "\n",
    "logger = logging.getLogger()"
   ]
  },
  {
   "cell_type": "code",
   "execution_count": null,
   "metadata": {},
   "outputs": [
    {
     "data": {
      "text/plain": [
       "Path('/home/maye/big_drive/planetary_data/missions/cassini/iss')"
      ]
     },
     "execution_count": null,
     "metadata": {},
     "output_type": "execute_result"
    }
   ],
   "source": [
    "from planetarypy.ciss import storage_root\n",
    "storage_root"
   ]
  },
  {
   "cell_type": "markdown",
   "metadata": {},
   "source": [
    "## PathManager\n",
    "\n",
    "> The `PathManager` provides access to the paths in the archive, based on class attributes that reflect the processing level of the file:"
   ]
  },
  {
   "cell_type": "code",
   "execution_count": null,
   "metadata": {},
   "outputs": [],
   "source": [
    "# export\n",
    "from collections import OrderedDict\n",
    "\n",
    "\n",
    "class PathManager:\n",
    "\n",
    "    \"\"\"Manage paths to data in database.\n",
    "\n",
    "    `planetarypy.ciss.storage_root` determines the path to the database for ISS images.\n",
    "    With this class you can access the different kind of files in that folder conveniently.\n",
    "\n",
    "    Using the stored extensions dictionary, the attributes of the object listed here are created\n",
    "    dynamically at object initialization and when the image_id is being set.\n",
    "\n",
    "    NOTE\n",
    "    ----\n",
    "    This class will use the archive path as designated by `planetarypy.ciss`, but\n",
    "    one can also call it with the savedir argument to override that.\n",
    "\n",
    "    Parameters\n",
    "    ----------\n",
    "    img_id : str or pathlib.Path\n",
    "        The N... or W... image identifier string of CISS images or the absolute\n",
    "        path to an existing image\n",
    "    savedir : str or pathlib.Path\n",
    "        Path to the pyciss image database. By default defined by what's given by\n",
    "        `planetarypy.ciss.storage_root`, but can be overridden using this parameter.\n",
    "\n",
    "    Attributes\n",
    "    ----------\n",
    "    basepath\n",
    "    img_id\n",
    "    calib_img\n",
    "    calib_label\n",
    "    raw_image\n",
    "    raw_cub\n",
    "    raw_label\n",
    "    cubepath\n",
    "    tif\n",
    "    undestriped\n",
    "    \"\"\"\n",
    "\n",
    "    d = {\n",
    "        \"cubepath\": \".cal.dst.map.cub\",\n",
    "        \"cal_cub\": \".cal.cub\",\n",
    "        \"dst_cub\": \".cal.dst.cub\",\n",
    "        \"raw_cub\": \".cub\",\n",
    "        \"raw_label\": \".LBL\",\n",
    "        \"raw_image\": \".IMG\",\n",
    "        \"calib_img\": \"_CALIB.IMG\",\n",
    "        \"calib_label\": \"_CALIB.LBL\",\n",
    "        \"tif\": \".cal.dst.map.tif\",\n",
    "        \"undestriped\": \".cal.map.cub\",\n",
    "    }\n",
    "    # ordered, sorted by key:\n",
    "    extensions = OrderedDict(sorted(d.items(), key=lambda t: t[0]))\n",
    "\n",
    "    def __init__(self, img_id, savedir=None):\n",
    "        try:  # if img_id is a string, meaning the img_id:\n",
    "            img_id = img_id.upper()\n",
    "        except AttributeError:  # now assuming some kind of path\n",
    "            if Path(img_id).is_absolute():\n",
    "                # the split is to remove the _1.IMG or _2.IMG from the path\n",
    "                # for the image id.\n",
    "                self._id = Path(img_id).name.split(\"_\")[0]\n",
    "                print(self._id)\n",
    "            else:\n",
    "                # I'm using only filename until _ for storage\n",
    "                # TODO: Could this create a problem?\n",
    "                self._id = img_id[:11]\n",
    "        else:\n",
    "            self._id = img_id\n",
    "        if savedir is None:\n",
    "            self.dbroot = storage_root\n",
    "        else:\n",
    "            self.dbroot = Path(savedir)\n",
    "\n",
    "        self.set_version()\n",
    "        self.set_attributes()\n",
    "\n",
    "    def set_version(self):\n",
    "        id_ = Path(self._id).name\n",
    "        if len(id_) > 11:\n",
    "            self.version = id_.split(\"_\")[1].split(\".\")[0]\n",
    "        else:\n",
    "            # if the given id was without version, check if a raw file is in database:\n",
    "            try:\n",
    "                rawpath = next(self.basepath.glob(self.img_id + \"_?.IMG\")).name\n",
    "            except StopIteration:\n",
    "                self.version = \"0\"\n",
    "            else:\n",
    "                self.version = rawpath[12]\n",
    "\n",
    "    @property\n",
    "    def basepath(self):\n",
    "        return self.dbroot / self._id\n",
    "\n",
    "    @property\n",
    "    def img_id(self):\n",
    "        return self._id\n",
    "\n",
    "    @img_id.setter\n",
    "    def img_id(self, value):\n",
    "        self._id = value\n",
    "        self.set_attributes()\n",
    "\n",
    "    def set_attributes(self):\n",
    "        for k, v in self.extensions.items():\n",
    "            path = self.basepath / f\"{self.img_id}_{self.version}{v}\"\n",
    "            setattr(self, k, path)\n",
    "\n",
    "    def __str__(self):\n",
    "        self.set_version()\n",
    "        self.set_attributes()  # in case there were changes\n",
    "        s = \"\"\n",
    "        for k, v in self.extensions.items():\n",
    "            s += \"{}: \".format(k)\n",
    "            path = getattr(self, k)\n",
    "            if path.exists():\n",
    "                s += \"{}\\n\".format(path)\n",
    "            else:\n",
    "                s += \"not found.\\n\"\n",
    "        return s\n",
    "\n",
    "    def __repr__(self):\n",
    "        return self.__str__()"
   ]
  },
  {
   "cell_type": "code",
   "execution_count": null,
   "metadata": {},
   "outputs": [],
   "source": [
    "# export\n",
    "def db_mapped_cubes():\n",
    "    return storage_root.glob(\"**/*cal.dst.map.cub\")\n",
    "\n",
    "\n",
    "def db_label_paths():\n",
    "    return storage_root.glob(\"*.LBL\")"
   ]
  },
  {
   "cell_type": "code",
   "execution_count": null,
   "metadata": {},
   "outputs": [
    {
     "data": {
      "text/plain": [
       "[Path('/home/maye/big_drive/planetary_data/missions/cassini/iss/N1595341067/N1595341067_1.cal.dst.map.cub'),\n",
       " Path('/home/maye/big_drive/planetary_data/missions/cassini/iss/N1625954542/N1625954542_1.cal.dst.map.cub'),\n",
       " Path('/home/maye/big_drive/planetary_data/missions/cassini/iss/N1625962190/N1625962190_1.cal.dst.map.cub'),\n",
       " Path('/home/maye/big_drive/planetary_data/missions/cassini/iss/N1591681327/N1591681327_1.cal.dst.map.cub'),\n",
       " Path('/home/maye/big_drive/planetary_data/missions/cassini/iss/N1585780709/N1585780709_1.cal.dst.map.cub')]"
      ]
     },
     "execution_count": null,
     "metadata": {},
     "output_type": "execute_result"
    }
   ],
   "source": [
    "list(db_mapped_cubes())[:5]"
   ]
  },
  {
   "cell_type": "code",
   "execution_count": null,
   "metadata": {},
   "outputs": [],
   "source": [
    "pm = PathManager(\"N1875229393\")"
   ]
  },
  {
   "cell_type": "code",
   "execution_count": null,
   "metadata": {},
   "outputs": [
    {
     "data": {
      "text/plain": [
       "cal_cub: /home/maye/big_drive/planetary_data/missions/cassini/iss/N1875229393/N1875229393_1.cal.cub\n",
       "calib_img: /home/maye/big_drive/planetary_data/missions/cassini/iss/N1875229393/N1875229393_1_CALIB.IMG\n",
       "calib_label: /home/maye/big_drive/planetary_data/missions/cassini/iss/N1875229393/N1875229393_1_CALIB.LBL\n",
       "cubepath: /home/maye/big_drive/planetary_data/missions/cassini/iss/N1875229393/N1875229393_1.cal.dst.map.cub\n",
       "dst_cub: /home/maye/big_drive/planetary_data/missions/cassini/iss/N1875229393/N1875229393_1.cal.dst.cub\n",
       "raw_cub: /home/maye/big_drive/planetary_data/missions/cassini/iss/N1875229393/N1875229393_1.cub\n",
       "raw_image: /home/maye/big_drive/planetary_data/missions/cassini/iss/N1875229393/N1875229393_1.IMG\n",
       "raw_label: /home/maye/big_drive/planetary_data/missions/cassini/iss/N1875229393/N1875229393_1.LBL\n",
       "tif: /home/maye/big_drive/planetary_data/missions/cassini/iss/N1875229393/N1875229393_1.cal.dst.map.tif\n",
       "undestriped: /home/maye/big_drive/planetary_data/missions/cassini/iss/N1875229393/N1875229393_1.cal.map.cub"
      ]
     },
     "execution_count": null,
     "metadata": {},
     "output_type": "execute_result"
    }
   ],
   "source": [
    "pm"
   ]
  },
  {
   "cell_type": "code",
   "execution_count": null,
   "metadata": {},
   "outputs": [
    {
     "data": {
      "text/plain": [
       "OrderedDict([('cal_cub', '.cal.cub'),\n",
       "             ('calib_img', '_CALIB.IMG'),\n",
       "             ('calib_label', '_CALIB.LBL'),\n",
       "             ('cubepath', '.cal.dst.map.cub'),\n",
       "             ('dst_cub', '.cal.dst.cub'),\n",
       "             ('raw_cub', '.cub'),\n",
       "             ('raw_image', '.IMG'),\n",
       "             ('raw_label', '.LBL'),\n",
       "             ('tif', '.cal.dst.map.tif'),\n",
       "             ('undestriped', '.cal.map.cub')])"
      ]
     },
     "execution_count": null,
     "metadata": {},
     "output_type": "execute_result"
    }
   ],
   "source": [
    "pm.extensions"
   ]
  },
  {
   "cell_type": "code",
   "execution_count": null,
   "metadata": {},
   "outputs": [],
   "source": [
    "def print_db_stats():\n",
    "    \"\"\"Print database stats.\n",
    "\n",
    "    Returns\n",
    "    -------\n",
    "    pd.DataFrame\n",
    "        Table with the found data items per type.\n",
    "    \"\"\"\n",
    "    dbroot = storage_root\n",
    "    print(f\"Database location: {dbroot}\")\n",
    "    n_ids = len(list(dbroot.glob(\"[N,W]*\")))\n",
    "    print(\"Number of WACs and NACs in database: {}\".format(n_ids))\n",
    "    print(\"These kind of data are in the database: (returning pd.DataFrame)\")\n",
    "    d = {}\n",
    "    for key, val in PathManager.extensions.items():\n",
    "        d[key] = [len(list(dbroot.glob(\"**/*_?\" + val)))]\n",
    "    return pd.DataFrame(d)"
   ]
  },
  {
   "cell_type": "code",
   "execution_count": null,
   "metadata": {},
   "outputs": [
    {
     "name": "stdout",
     "output_type": "stream",
     "text": [
      "Database location: /home/maye/big_drive/planetary_data/missions/cassini/iss\n",
      "Number of WACs and NACs in database: 24\n",
      "These kind of data are in the database: (returning pd.DataFrame)\n"
     ]
    },
    {
     "data": {
      "text/html": [
       "<div>\n",
       "<style scoped>\n",
       "    .dataframe tbody tr th:only-of-type {\n",
       "        vertical-align: middle;\n",
       "    }\n",
       "\n",
       "    .dataframe tbody tr th {\n",
       "        vertical-align: top;\n",
       "    }\n",
       "\n",
       "    .dataframe thead th {\n",
       "        text-align: right;\n",
       "    }\n",
       "</style>\n",
       "<table border=\"1\" class=\"dataframe\">\n",
       "  <thead>\n",
       "    <tr style=\"text-align: right;\">\n",
       "      <th></th>\n",
       "      <th>cal_cub</th>\n",
       "      <th>calib_img</th>\n",
       "      <th>calib_label</th>\n",
       "      <th>cubepath</th>\n",
       "      <th>dst_cub</th>\n",
       "      <th>raw_cub</th>\n",
       "      <th>raw_image</th>\n",
       "      <th>raw_label</th>\n",
       "      <th>tif</th>\n",
       "      <th>undestriped</th>\n",
       "    </tr>\n",
       "  </thead>\n",
       "  <tbody>\n",
       "    <tr>\n",
       "      <th>0</th>\n",
       "      <td>23</td>\n",
       "      <td>3</td>\n",
       "      <td>2</td>\n",
       "      <td>23</td>\n",
       "      <td>23</td>\n",
       "      <td>23</td>\n",
       "      <td>24</td>\n",
       "      <td>24</td>\n",
       "      <td>23</td>\n",
       "      <td>23</td>\n",
       "    </tr>\n",
       "  </tbody>\n",
       "</table>\n",
       "</div>"
      ],
      "text/plain": [
       "   cal_cub  calib_img  calib_label  cubepath  dst_cub  raw_cub  raw_image  \\\n",
       "0       23          3            2        23       23       23         24   \n",
       "\n",
       "   raw_label  tif  undestriped  \n",
       "0         24   23           23  "
      ]
     },
     "execution_count": null,
     "metadata": {},
     "output_type": "execute_result"
    }
   ],
   "source": [
    "print_db_stats()"
   ]
  },
  {
   "cell_type": "code",
   "execution_count": null,
   "metadata": {},
   "outputs": [],
   "source": [
    "# export\n",
    "class DBManager:\n",
    "    \"\"\"Helper class for the whole archive.\"\"\"\n",
    "\n",
    "    def __init__(self):\n",
    "        self.dbroot = get_db_root()\n",
    "\n",
    "    def print_stats(self):\n",
    "        print_db_stats()"
   ]
  },
  {
   "cell_type": "code",
   "execution_count": null,
   "metadata": {},
   "outputs": [],
   "source": [
    "# export\n",
    "def filename_from_obsid(obsid):\n",
    "    tokens = obsid.split(\"_\")\n",
    "    return f\"{tokens[-1]}{tokens[-2]}\""
   ]
  }
 ],
 "metadata": {
  "kernelspec": {
   "display_name": "Python 3 (ipykernel)",
   "language": "python",
   "name": "python3"
  }
 },
 "nbformat": 4,
 "nbformat_minor": 4
}

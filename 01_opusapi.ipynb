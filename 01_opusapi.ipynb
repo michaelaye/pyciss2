{
 "cells": [
  {
   "cell_type": "code",
   "execution_count": null,
   "metadata": {},
   "outputs": [],
   "source": [
    "# default_exp opusapi"
   ]
  },
  {
   "cell_type": "markdown",
   "metadata": {},
   "source": [
    "# OPUSAPI\n",
    "\n",
    "> This module is making use of the\n",
    "`OPUS API <https://pds-rings-tools.seti.org/opus/api/>`_ to create web requests\n",
    "for OPUS data, metadata, and preview images."
   ]
  },
  {
   "cell_type": "code",
   "execution_count": null,
   "metadata": {},
   "outputs": [],
   "source": [
    "# export\n",
    "from pathlib import Path\n",
    "from urllib.parse import urlencode, urlparse\n",
    "from urllib.request import unquote, urlretrieve\n",
    "\n",
    "import pandas as pd\n",
    "import requests\n",
    "from IPython.display import HTML, display\n",
    "from pyciss import io"
   ]
  },
  {
   "cell_type": "code",
   "execution_count": null,
   "metadata": {},
   "outputs": [],
   "source": [
    "# export\n",
    "base_url = \"https://tools.pds-rings.seti.org/opus/api\"\n",
    "metadata_url = base_url + \"/metadata\"\n",
    "image_url = base_url + \"/image/\"\n",
    "\n",
    "dic = {\"raw_data\": \"coiss_raw\", \"calibrated_data\": \"coiss_calib\"}"
   ]
  },
  {
   "cell_type": "code",
   "execution_count": null,
   "metadata": {},
   "outputs": [],
   "source": [
    "# export\n",
    "class MetaData:\n",
    "    \"\"\"Receive OPUS Metadata for ISS img_id.\n",
    "\n",
    "    Parameters\n",
    "    ----------\n",
    "    img_id : str\n",
    "        In the form of {'N','W'}0123456789, the image id used in science publications\n",
    "\n",
    "    \"\"\"\n",
    "\n",
    "    attr_dic = {\n",
    "        \"image\": \"Image Constraints\",\n",
    "        \"wavelength\": \"Wavelength Constraints\",\n",
    "        \"surface_geom\": \"Saturn Surface Geometry\",\n",
    "        \"mission\": \"Cassini Mission Constraints\",\n",
    "        \"ring_geom\": \"Ring Geometry Constraints\",\n",
    "        \"general\": \"General Constraints\",\n",
    "        \"iss\": \"Cassini ISS Constraints\",\n",
    "    }\n",
    "\n",
    "    def __init__(self, img_id, query=None):\n",
    "        self.img_id = img_id\n",
    "        urlname = \"S_IMG_CO_ISS_{}_{}.json\".format(img_id[1:], img_id[0])\n",
    "        fullurl = \"{}/{}\".format(metadata_url, urlname)\n",
    "        print(\"Requesting\", fullurl)\n",
    "        if query is not None:\n",
    "            query = unquote(urlencode(query))\n",
    "            self.r = requests.get(fullurl, params=query).json()\n",
    "        else:\n",
    "            self.r = requests.get(fullurl).json()\n",
    "\n",
    "        # setting attributes to access data quicker:\n",
    "        for key, val in self.attr_dic:\n",
    "            setattr(self, key, self.r[val])\n",
    "\n",
    "    # this property access the\n",
    "    @property\n",
    "    def target_name(self):\n",
    "        \"\"\"str: Intended target name for the current ISS observation\"\"\"\n",
    "        return self.mission[\"cassini_target_name\"]\n",
    "\n",
    "\n",
    "def _get_dataframe_from_meta_dic(meta, attr_name):\n",
    "    d = getattr(meta, attr_name)\n",
    "    df = pd.DataFrame({k: [v] for (k, v) in d.items()})\n",
    "    df.index = [meta.img_id]\n",
    "    return df"
   ]
  },
  {
   "cell_type": "code",
   "execution_count": null,
   "metadata": {},
   "outputs": [],
   "source": [
    "# export\n",
    "class OPUSImageURL:\n",
    "\n",
    "    \"\"\"Manage URLS from the OPUS response.\"\"\"\n",
    "\n",
    "    def __init__(self, jsonlist):\n",
    "        self.jsonlist = jsonlist\n",
    "        for item in jsonlist:\n",
    "            parsed = urlparse(item)\n",
    "            if \"//\" in parsed.path:\n",
    "                continue\n",
    "            if item.upper().endswith(\".LBL\"):\n",
    "                self.label_url = item\n",
    "            elif item.upper().endswith(\".IMG\"):\n",
    "                self.image_url = item\n",
    "\n",
    "    def __repr__(self):\n",
    "        s = \"Label:\\n{}\\nImage:\\n{}\".format(self.label_url, self.image_url)\n",
    "        return s"
   ]
  },
  {
   "cell_type": "code",
   "execution_count": null,
   "metadata": {},
   "outputs": [],
   "source": [
    "# export\n",
    "class OPUSObsID:\n",
    "\n",
    "    \"\"\"Manage observation IDs from OPUS responses.\"\"\"\n",
    "\n",
    "    def __init__(self, obsid_data):\n",
    "        self.idname = obsid_data[0]\n",
    "        self.raw = OPUSImageURL(obsid_data[1][dic[\"raw_data\"]])\n",
    "        # the images have an iteration number. I'm fishing it out here:\n",
    "        self.number = self.raw.image_url.split(\"_\")[-1][0]\n",
    "        try:\n",
    "            self.calib = OPUSImageURL(obsid_data[1][dic[\"calibrated_data\"]])\n",
    "        except KeyError:\n",
    "            self.calib = None\n",
    "\n",
    "    def _get_img_url(self, size):\n",
    "        base = self.raw.label_url[:-4].replace(\"volumes\", \"browse\")\n",
    "        return \"{}_{}.jpg\".format(base, size)\n",
    "\n",
    "    @property\n",
    "    def raw_urls(self):\n",
    "        return [self.raw.image_url, self.raw.label_url]\n",
    "\n",
    "    @property\n",
    "    def calib_urls(self):\n",
    "        return [self.calib.image_url, self.calib.label_url]\n",
    "\n",
    "    @property\n",
    "    def all_urls(self):\n",
    "        return self.raw_urls + self.calib_urls\n",
    "\n",
    "    @property\n",
    "    def img_id(self):\n",
    "        \"\"\"Convert OPUS ObsID into the more known image_id.\"\"\"\n",
    "        tokens = self.idname.split(\"-\")\n",
    "        return tokens[-1]\n",
    "\n",
    "    @property\n",
    "    def small_img_url(self):\n",
    "        return self._get_img_url(\"small\")\n",
    "\n",
    "    @property\n",
    "    def medium_img_url(self):\n",
    "        return self._get_img_url(\"med\")\n",
    "\n",
    "    @property\n",
    "    def thumb_img_url(self):\n",
    "        return self._get_img_url(\"thumb\")\n",
    "\n",
    "    @property\n",
    "    def full_img_url(self):\n",
    "        return self._get_img_url(\"full\")\n",
    "\n",
    "    def get_meta_data(self):\n",
    "        return MetaData(self.img_id)\n",
    "\n",
    "    def __repr__(self):\n",
    "        s = \"Raw:\\n{}\\nCalibrated:\\n{}\".format(self.raw, self.calib)\n",
    "        return s"
   ]
  },
  {
   "cell_type": "code",
   "execution_count": null,
   "metadata": {},
   "outputs": [],
   "source": [
    "# export\n",
    "class OPUS:\n",
    "\n",
    "    \"\"\"Manage OPUS API requests.\"\"\"\n",
    "\n",
    "    def __init__(self, silent=False):\n",
    "        self.silent = silent\n",
    "\n",
    "    def query_image_id(self, image_id):\n",
    "        \"\"\"Query OPUS via the image_id.\n",
    "\n",
    "        This is a query using the 'primaryfilespec' field of the OPUS database.\n",
    "        It returns a list of URLS into the `obsids` attribute.\n",
    "\n",
    "        This example queries for an image of Titan:\n",
    "\n",
    "        >>> opus = opusapi.OPUS()\n",
    "        >>> opus.query_image_id('N1695760475_1')\n",
    "\n",
    "        After this, one can call `download_results()` to retrieve the found\n",
    "        data into the standard locations into the database_path as defined in\n",
    "        `.pyciss.yaml` (the config file),\n",
    "        \"\"\"\n",
    "        myquery = {\"primaryfilespec\": image_id}\n",
    "        self.create_files_request(myquery, fmt=\"json\")\n",
    "        self.unpack_json_response()\n",
    "        return self.obsids\n",
    "\n",
    "    def get_metadata(self, obsid, fmt=\"html\", get_response=False):\n",
    "        return MetaData(obsid.img_id)\n",
    "\n",
    "    def create_request_with_query(self, kind, query, size=\"thumb\", fmt=\"json\"):\n",
    "        \"\"\"api/data.[fmt], api/images/[size].[fmt] api/files.[fmt]\n",
    "\n",
    "        kind = ['data', 'images', 'files']\n",
    "\n",
    "\n",
    "        \"\"\"\n",
    "        if kind == \"data\" or kind == \"files\":\n",
    "            url = \"{}/{}.{}\".format(base_url, kind, fmt)\n",
    "        elif kind == \"images\":\n",
    "            url = \"{}/images/{}.{}\".format(base_url, size, fmt)\n",
    "        self.url = url\n",
    "        self.r = requests.get(url, params=unquote(urlencode(query)))\n",
    "\n",
    "    def create_files_request(self, query, fmt=\"json\"):\n",
    "        self.create_request_with_query(\"files\", query, fmt=fmt)\n",
    "\n",
    "    def create_images_request(self, query, size=\"thumb\", fmt=\"html\"):\n",
    "        self.create_request_with_query(\"images\", query, size=size, fmt=fmt)\n",
    "\n",
    "    def get_volume_id(self, ring_obsid):\n",
    "        url = \"{}/{}.json\".format(metadata_url, ring_obsid)\n",
    "        query = {\"cols\": \"volumeidlist\"}\n",
    "        r = requests.get(url, params=unquote(urlencode(query)))\n",
    "        return r.json()[0][\"volume_id_list\"]\n",
    "\n",
    "    # def create_data_request(self, query, fmt='json'):\n",
    "    #     myquery = query.copy()\n",
    "    #     myquery.update(query)\n",
    "    #     self.create_request_with_query('data', myquery, fmt=fmt)\n",
    "\n",
    "    @property\n",
    "    def response(self):\n",
    "        return self.r.json()[\"data\"]\n",
    "\n",
    "    def unpack_json_response(self):\n",
    "        if self.r.status_code == 500:\n",
    "            if not self.silent:\n",
    "                print(\"No data found.\")\n",
    "            self.obsids = []\n",
    "            return\n",
    "        obsids = []\n",
    "        for obsid_data in self.response.items():\n",
    "            obsids.append(OPUSObsID(obsid_data))\n",
    "        self.obsids = obsids\n",
    "        if not self.silent:\n",
    "            print(\"Found {} obsids.\".format(len(obsids)))\n",
    "            if len(obsids) == 1000:\n",
    "                print(\n",
    "                    \"List is 1000 entries long, which is the pre-set limit, hence\"\n",
    "                    \" the real number of results might be longe.\"\n",
    "                )\n",
    "\n",
    "    def get_radial_res_query(self, res1, res2):\n",
    "        myquery = dict(\n",
    "            target=\"S+RINGS\",\n",
    "            instrumentid=\"Cassini+ISS\",\n",
    "            projectedradialresolution1=res1,\n",
    "            projectedradialresolution2=res2,\n",
    "            limit=1000,\n",
    "        )\n",
    "        return myquery\n",
    "\n",
    "    def _get_time_query(self, t1, t2):\n",
    "        myquery = dict(instrumentid=\"Cassini+ISS\", timesec1=t1, timesec2=t2)\n",
    "        return myquery\n",
    "\n",
    "    def get_between_times(self, t1, t2, target=None):\n",
    "        \"\"\"\n",
    "        Query for OPUS data between times t1 and t2.\n",
    "\n",
    "        Parameters\n",
    "        ----------\n",
    "        t1, t2 : datetime.datetime, strings\n",
    "            Start and end time for the query. If type is datetime, will be\n",
    "            converted to isoformat string. If type is string already, it needs\n",
    "            to be in an accepted international format for time strings.\n",
    "        target : str\n",
    "            Potential target for the observation query. Most likely will reduce\n",
    "            the amount of data matching the query a lot.\n",
    "\n",
    "        Returns\n",
    "        -------\n",
    "        None, but set's state of the object to have new query results stored\n",
    "        in self.obsids.\n",
    "        \"\"\"\n",
    "        try:\n",
    "            # checking if times have isoformat() method (datetimes have)\n",
    "            t1 = t1.isoformat()\n",
    "            t2 = t2.isoformat()\n",
    "        except AttributeError:\n",
    "            # if not, should already be a string, so do nothing.\n",
    "            pass\n",
    "        myquery = self._get_time_query(t1, t2)\n",
    "        if target is not None:\n",
    "            myquery[\"target\"] = target\n",
    "        self.create_files_request(myquery, fmt=\"json\")\n",
    "        self.unpack_json_response()\n",
    "\n",
    "    def get_between_resolutions(self, res1=\"\", res2=\"0.5\"):\n",
    "        myquery = self.get_radial_res_query(res1, res2)\n",
    "        self.create_files_request(myquery, fmt=\"json\")\n",
    "        self.unpack_json_response()\n",
    "\n",
    "    def show_images(self, size=\"small\"):\n",
    "        \"\"\"Shows preview images using the Jupyter notebook HTML display.\n",
    "\n",
    "        Parameters\n",
    "        ==========\n",
    "        size : {'small', 'med', 'thumb', 'full'}\n",
    "            Determines the size of the preview image to be shown.\n",
    "        \"\"\"\n",
    "        d = dict(small=256, med=512, thumb=100, full=1024)\n",
    "        try:\n",
    "            width = d[size]\n",
    "        except KeyError:\n",
    "            print(\"Allowed keys:\", d.keys())\n",
    "            return\n",
    "        img_urls = [i._get_img_url(size) for i in self.obsids]\n",
    "        imagesList = \"\".join(\n",
    "            [\n",
    "                \"<img style='width: {0}px; margin: 0px; float: \"\n",
    "                \"left; border: 1px solid black;' \"\n",
    "                \"src='{1}' />\".format(width, s)\n",
    "                for s in img_urls\n",
    "            ]\n",
    "        )\n",
    "        display(HTML(imagesList))\n",
    "\n",
    "    def download_results(self, savedir=None, raw=True, calib=False, index=None):\n",
    "        \"\"\"Download the previously found and stored Opus obsids.\n",
    "\n",
    "        Parameters\n",
    "        ==========\n",
    "        savedir: str or pathlib.Path, optional\n",
    "            If the database root folder as defined by the config.ini should not be used,\n",
    "            provide a different savedir here. It will be handed to PathManager.\n",
    "        \"\"\"\n",
    "        obsids = self.obsids if index is None else [self.obsids[index]]\n",
    "        for obsid in obsids:\n",
    "            pm = io.PathManager(obsid.img_id, savedir=savedir)\n",
    "            pm.basepath.mkdir(exist_ok=True)\n",
    "            to_download = []\n",
    "            if raw is True:\n",
    "                to_download.extend(obsid.raw_urls)\n",
    "            if calib is True:\n",
    "                to_download.extend(obsid.calib_urls)\n",
    "            for url in to_download:\n",
    "                basename = Path(url).name\n",
    "                print(\"Downloading\", basename)\n",
    "                store_path = str(pm.basepath / basename)\n",
    "                try:\n",
    "                    urlretrieve(url, store_path)\n",
    "                except Exception:\n",
    "                    urlretrieve(url.replace(\"https\", \"http\"), store_path)\n",
    "            return str(pm.basepath)\n",
    "\n",
    "    def download_previews(self, savedir=None):\n",
    "        \"\"\"Download preview files for the previously found and stored Opus obsids.\n",
    "\n",
    "        Parameters\n",
    "        ==========\n",
    "        savedir: str or pathlib.Path, optional\n",
    "            If the database root folder as defined by the config.ini should not be used,\n",
    "            provide a different savedir here. It will be handed to PathManager.\n",
    "        \"\"\"\n",
    "        for obsid in self.obsids:\n",
    "            pm = io.PathManager(obsid.img_id, savedir=savedir)\n",
    "            pm.basepath.mkdir(exist_ok=True)\n",
    "            basename = Path(obsid.medium_img_url).name\n",
    "            print(\"Downloading\", basename)\n",
    "            urlretrieve(obsid.medium_img_url, str(pm.basepath / basename))"
   ]
  },
  {
   "cell_type": "markdown",
   "metadata": {},
   "source": [
    "## OPUS queries\n",
    "\n",
    "The `query_image_id` method returns a list for the case of multiple matches, but also stores these results in an attribute inside the `api` object under `obsids`:"
   ]
  },
  {
   "cell_type": "code",
   "execution_count": null,
   "metadata": {},
   "outputs": [
    {
     "name": "stdout",
     "output_type": "stream",
     "text": [
      "Found 6 obsids.\n"
     ]
    }
   ],
   "source": [
    "img_id = \"N1875229\"\n",
    "api = OPUS()\n",
    "api.query_image_id(img_id)\n",
    "assert len(api.obsids) == 6"
   ]
  },
  {
   "cell_type": "code",
   "execution_count": null,
   "metadata": {},
   "outputs": [
    {
     "data": {
      "text/plain": [
       "Raw:\n",
       "Label:\n",
       "https://opus.pds-rings.seti.org/holdings/volumes/COISS_2xxx/COISS_2113/data/1875228144_1875491141/N1875229393_1.LBL\n",
       "Image:\n",
       "https://opus.pds-rings.seti.org/holdings/volumes/COISS_2xxx/COISS_2113/data/1875228144_1875491141/N1875229393_1.IMG\n",
       "Calibrated:\n",
       "Label:\n",
       "https://opus.pds-rings.seti.org/holdings/calibrated/COISS_2xxx/COISS_2113/data/1875228144_1875491141/N1875229393_1_CALIB.LBL\n",
       "Image:\n",
       "https://opus.pds-rings.seti.org/holdings/calibrated/COISS_2xxx/COISS_2113/data/1875228144_1875491141/N1875229393_1_CALIB.IMG"
      ]
     },
     "execution_count": null,
     "metadata": {},
     "output_type": "execute_result"
    }
   ],
   "source": [
    "api.obsids[2]"
   ]
  },
  {
   "cell_type": "markdown",
   "metadata": {},
   "source": [
    "> Tip: Even when there's only one result, one needs to pick it out of the list:"
   ]
  },
  {
   "cell_type": "code",
   "execution_count": null,
   "metadata": {},
   "outputs": [],
   "source": [
    "img_id = \"N1875229393\"\n",
    "api = OPUS()"
   ]
  },
  {
   "cell_type": "code",
   "execution_count": null,
   "metadata": {},
   "outputs": [
    {
     "name": "stdout",
     "output_type": "stream",
     "text": [
      "Found 1 obsids.\n"
     ]
    },
    {
     "data": {
      "text/plain": [
       "Raw:\n",
       "Label:\n",
       "https://opus.pds-rings.seti.org/holdings/volumes/COISS_2xxx/COISS_2113/data/1875228144_1875491141/N1875229393_1.LBL\n",
       "Image:\n",
       "https://opus.pds-rings.seti.org/holdings/volumes/COISS_2xxx/COISS_2113/data/1875228144_1875491141/N1875229393_1.IMG\n",
       "Calibrated:\n",
       "Label:\n",
       "https://opus.pds-rings.seti.org/holdings/calibrated/COISS_2xxx/COISS_2113/data/1875228144_1875491141/N1875229393_1_CALIB.LBL\n",
       "Image:\n",
       "https://opus.pds-rings.seti.org/holdings/calibrated/COISS_2xxx/COISS_2113/data/1875228144_1875491141/N1875229393_1_CALIB.IMG"
      ]
     },
     "execution_count": null,
     "metadata": {},
     "output_type": "execute_result"
    }
   ],
   "source": [
    "api.query_image_id(img_id)[0]  # see index [0] here!"
   ]
  },
  {
   "cell_type": "markdown",
   "metadata": {},
   "source": [
    "> Note: Not all ISS images have both raw and calibrated versions on the server."
   ]
  },
  {
   "cell_type": "markdown",
   "metadata": {},
   "source": [
    "The returned object is actually an `OPUSOpsID`, which just self-displays itself nicely in a notebook."
   ]
  },
  {
   "cell_type": "markdown",
   "metadata": {},
   "source": [
    "### Downloading\n",
    "\n",
    "There is a downloading method, using the `obsids` attribute's list and automatically storing them in the folder configured in `$HOME/.pyciss.toml`:"
   ]
  },
  {
   "cell_type": "code",
   "execution_count": null,
   "metadata": {},
   "outputs": [
    {
     "name": "stdout",
     "output_type": "stream",
     "text": [
      "Downloading N1875229393_1.IMG\n",
      "Downloading N1875229393_1.LBL\n"
     ]
    },
    {
     "data": {
      "text/plain": [
       "'/home/maye/big_drive/planetary_data/pyciss/N1875229393'"
      ]
     },
     "execution_count": null,
     "metadata": {},
     "output_type": "execute_result"
    }
   ],
   "source": [
    "api.download_results()"
   ]
  },
  {
   "cell_type": "markdown",
   "metadata": {},
   "source": [
    "### PathManager\n",
    "\n",
    "Now we can use the PathManager to get to stored data:"
   ]
  },
  {
   "cell_type": "code",
   "execution_count": null,
   "metadata": {},
   "outputs": [],
   "source": [
    "pm = io.PathManager(img_id)"
   ]
  },
  {
   "cell_type": "code",
   "execution_count": null,
   "metadata": {},
   "outputs": [
    {
     "data": {
      "text/plain": [
       "cal_cub: /home/maye/big_drive/planetary_data/pyciss/N1875229393/N1875229393_1.cal.cub\n",
       "calib_img: /home/maye/big_drive/planetary_data/pyciss/N1875229393/N1875229393_1_CALIB.IMG\n",
       "calib_label: /home/maye/big_drive/planetary_data/pyciss/N1875229393/N1875229393_1_CALIB.LBL\n",
       "cubepath: /home/maye/big_drive/planetary_data/pyciss/N1875229393/N1875229393_1.cal.dst.map.cub\n",
       "dst_cub: /home/maye/big_drive/planetary_data/pyciss/N1875229393/N1875229393_1.cal.dst.cub\n",
       "raw_cub: /home/maye/big_drive/planetary_data/pyciss/N1875229393/N1875229393_1.cub\n",
       "raw_image: /home/maye/big_drive/planetary_data/pyciss/N1875229393/N1875229393_1.IMG\n",
       "raw_label: /home/maye/big_drive/planetary_data/pyciss/N1875229393/N1875229393_1.LBL\n",
       "tif: /home/maye/big_drive/planetary_data/pyciss/N1875229393/N1875229393_1.cal.dst.map.tif\n",
       "undestriped: /home/maye/big_drive/planetary_data/pyciss/N1875229393/N1875229393_1.cal.map.cub"
      ]
     },
     "execution_count": null,
     "metadata": {},
     "output_type": "execute_result"
    }
   ],
   "source": [
    "pm"
   ]
  },
  {
   "cell_type": "code",
   "execution_count": null,
   "metadata": {},
   "outputs": [
    {
     "data": {
      "text/plain": [
       "PosixPath('/home/maye/big_drive/planetary_data/pyciss/N1875229393/N1875229393_1_CALIB.LBL')"
      ]
     },
     "execution_count": null,
     "metadata": {},
     "output_type": "execute_result"
    }
   ],
   "source": [
    "pm.calib_label"
   ]
  }
 ],
 "metadata": {
  "kernelspec": {
   "display_name": "Python 3 (ipykernel)",
   "language": "python",
   "name": "python3"
  }
 },
 "nbformat": 4,
 "nbformat_minor": 4
}
